{
 "cells": [
  {
   "cell_type": "code",
   "execution_count": 12,
   "metadata": {},
   "outputs": [],
   "source": [
    "nlists = {\n",
    "\"Skritter N4\" : \"6081490510807040\",\n",
    "\"Skritter N3\" : \"6647996965584896\",\n",
    "\"Skritter N2\" : \"6703631774121984\",\n",
    "\"Skritter N1\" : \"5675281295212544\",\n",
    "\"Words for Jouyou Kanji\" : \"6155907291021312\",\n",
    "\"Chracters for Jouyou Kanji\" : \"6428236940181504\",\n",
    "\"Skritter N5\" : \"5669108168916992\",\n",
    "\"Genki 1 Third Edition\" : \"4567269533941760\",\n",
    "\"Genki 2 Third Edition\" : \"5796331437817856\",\n",
    "\"Japanese 201\" : \"355572169\",\n",
    "}\n"
   ]
  },
  {
   "cell_type": "code",
   "execution_count": 2,
   "metadata": {},
   "outputs": [],
   "source": [
    "import requests\n",
    "\n",
    "# client_id = \"337783558\"\n",
    "# client_secret = \"c92573724e61ebd1377df067fb21c8\"\n",
    "\n",
    "# username = \"756518632\"\n",
    "# password = \"2LbqAjLUBx6Yb9\"\n",
    "\n",
    "authorization_code = \"49f4b4ac662c1190b28e0d98271d3ce0\"\n",
    "\n",
    "\n",
    "\n",
    "api_url = \"http://legacy.skritter.com/api/v0/\"\n",
    "detail_url = \"vocablists/\"\n",
    "\n",
    "\n",
    "HEADERS = {\n",
    "    \"Authorization\" : f\"Bearer {authorization_code}\"\n",
    "}\n",
    "PARAMS = {\n",
    "    \"fields\" : \"sections\",\n",
    "}\n"
   ]
  },
  {
   "cell_type": "code",
   "execution_count": 45,
   "metadata": {},
   "outputs": [
    {
     "name": "stdout",
     "output_type": "stream",
     "text": [
      "Found ja-真っ直ぐ-0 in \"Skritter N3\" -  \"Section 56\", entry 16\n",
      "Found ja-直ぐ-0 in \"Skritter N1\" -  \"Section 43\", entry 13\n",
      "Found ja-真っ直ぐ-0 in \"Skritter N5\" -  \"Section 31\", entry 10\n",
      "\n"
     ]
    }
   ],
   "source": [
    "def getEntry(goalCharacter, findall = False, exact = False):\n",
    "    resultsList = \"\"\n",
    "    def compare(entry:str, listitem:str, comp:bool):\n",
    "        if comp:\n",
    "            return (f\"ja-{listitem}-\" in listitem)\n",
    "        else:\n",
    "            return (entry in listitem)\n",
    "\n",
    "    for nlist in nlists.keys():\n",
    "        r = requests.get(url = api_url + detail_url + nlists[nlist], params = PARAMS, headers = HEADERS)\n",
    "\n",
    "        data = r.json()[\"VocabList\"][\"sections\"]\n",
    "\n",
    "\n",
    "        for i in range(len(data)):\n",
    "            for j in range(len(data[i][\"rows\"])):\n",
    "\n",
    "                if(compare(goalCharacter, data[i][\"rows\"][j][\"vocabId\"], exact)):\n",
    "                    resultsList +=f\"Found {data[i]['rows'][j]['vocabId']} in \\\"{nlist}\\\" -  \\\"{data[i]['name']}\\\", entry {j+1}\\n\"\n",
    "                    if(not findall):\n",
    "                        return resultsList\n",
    "    \n",
    "    \n",
    "    if resultsList != \"\":\n",
    "        return resultsList\n",
    "    return \"Not found\"\n",
    "\n",
    "print(getEntry(\"直ぐ\", findall=True,exact=False))\n"
   ]
  },
  {
   "cell_type": "code",
   "execution_count": null,
   "metadata": {},
   "outputs": [],
   "source": []
  },
  {
   "cell_type": "code",
   "execution_count": null,
   "metadata": {},
   "outputs": [],
   "source": []
  }
 ],
 "metadata": {
  "kernelspec": {
   "display_name": "Python 3.10.7 64-bit (microsoft store)",
   "language": "python",
   "name": "python3"
  },
  "language_info": {
   "codemirror_mode": {
    "name": "ipython",
    "version": 3
   },
   "file_extension": ".py",
   "mimetype": "text/x-python",
   "name": "python",
   "nbconvert_exporter": "python",
   "pygments_lexer": "ipython3",
   "version": "3.10.7"
  },
  "orig_nbformat": 4,
  "vscode": {
   "interpreter": {
    "hash": "414586966b223291c0b6274515ff89e426eac18387dd12fd7066bd5ac02a87d1"
   }
  }
 },
 "nbformat": 4,
 "nbformat_minor": 2
}
